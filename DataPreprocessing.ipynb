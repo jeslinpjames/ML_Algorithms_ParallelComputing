{
  "nbformat": 4,
  "nbformat_minor": 0,
  "metadata": {
    "colab": {
      "provenance": [],
      "authorship_tag": "ABX9TyP3sfasykv90wQn/9zaCH3c",
      "include_colab_link": true
    },
    "kernelspec": {
      "name": "python3",
      "display_name": "Python 3"
    },
    "language_info": {
      "name": "python"
    }
  },
  "cells": [
    {
      "cell_type": "markdown",
      "metadata": {
        "id": "view-in-github",
        "colab_type": "text"
      },
      "source": [
        "<a href=\"https://colab.research.google.com/github/jeslinpjames/ML_Algorithms_ParallelComputing/blob/main/DataPreprocessing.ipynb\" target=\"_parent\"><img src=\"https://colab.research.google.com/assets/colab-badge.svg\" alt=\"Open In Colab\"/></a>"
      ]
    },
    {
      "cell_type": "code",
      "execution_count": null,
      "metadata": {
        "colab": {
          "base_uri": "https://localhost:8080/"
        },
        "id": "_yF6frYBGxaa",
        "outputId": "50d496a4-ead8-4914-9981-ff783afa5b38"
      },
      "outputs": [
        {
          "output_type": "stream",
          "name": "stdout",
          "text": [
            "Downloading data from https://storage.googleapis.com/tensorflow/tf-keras-datasets/mnist.npz\n",
            "\u001b[1m11490434/11490434\u001b[0m \u001b[32m━━━━━━━━━━━━━━━━━━━━\u001b[0m\u001b[37m\u001b[0m \u001b[1m2s\u001b[0m 0us/step\n",
            "Training set shape: (54000, 28, 28, 1), Labels shape: (54000, 10)\n",
            "Validation set shape: (6000, 28, 28, 1), Labels shape: (6000, 10)\n",
            "Test set shape: (10000, 28, 28, 1), Labels shape: (10000, 10)\n"
          ]
        }
      ],
      "source": [
        "import numpy as np\n",
        "import tensorflow as tf\n",
        "from tensorflow.keras.utils import to_categorical\n",
        "from sklearn.model_selection import train_test_split\n",
        "\n",
        "# Step 1: Load the MNIST Dataset\n",
        "mnist = tf.keras.datasets.mnist\n",
        "(x_train, y_train), (x_test, y_test) = mnist.load_data()\n",
        "\n",
        "# Step 2: Normalize the Pixel Values (Scaling between 0 and 1)\n",
        "x_train = x_train.astype('float32') / 255.0\n",
        "x_test = x_test.astype('float32') / 255.0\n",
        "\n",
        "# Step 3: Apply One-Hot Encoding to Target Labels\n",
        "y_train = to_categorical(y_train, num_classes=10)\n",
        "y_test = to_categorical(y_test, num_classes=10)\n",
        "\n",
        "# Step 4: Split Data into Training, Validation, and Test Sets\n",
        "x_train, x_val, y_train, y_val = train_test_split(x_train, y_train, test_size=0.1, random_state=42)\n",
        "\n",
        "# Step 5: Reshape the data to include a channel dimension (for CNNs)\n",
        "x_train = np.expand_dims(x_train, axis=-1)  # Shape: (num_samples, 28, 28, 1)\n",
        "x_val = np.expand_dims(x_val, axis=-1)\n",
        "x_test = np.expand_dims(x_test, axis=-1)\n",
        "\n",
        "# Print Shapes of the Splits\n",
        "print(f\"Training set shape: {x_train.shape}, Labels shape: {y_train.shape}\")\n",
        "print(f\"Validation set shape: {x_val.shape}, Labels shape: {y_val.shape}\")\n",
        "print(f\"Test set shape: {x_test.shape}, Labels shape: {y_test.shape}\")\n"
      ]
    }
  ]
}